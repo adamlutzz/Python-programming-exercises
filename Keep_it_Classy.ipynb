{
  "nbformat": 4,
  "nbformat_minor": 0,
  "metadata": {
    "colab": {
      "name": "Keep it Classy.ipynb",
      "provenance": [],
      "include_colab_link": true
    },
    "kernelspec": {
      "name": "python3",
      "display_name": "Python 3"
    }
  },
  "cells": [
    {
      "cell_type": "markdown",
      "metadata": {
        "id": "view-in-github",
        "colab_type": "text"
      },
      "source": [
        "<a href=\"https://colab.research.google.com/github/adamlutzz/Python-programming-exercises/blob/master/Keep_it_Classy.ipynb\" target=\"_parent\"><img src=\"https://colab.research.google.com/assets/colab-badge.svg\" alt=\"Open In Colab\"/></a>"
      ]
    },
    {
      "cell_type": "markdown",
      "metadata": {
        "id": "3WyYgiyc79jc",
        "colab_type": "text"
      },
      "source": [
        "# Problem\n",
        "Write a class TempTracker that tracks the max, min, mean, and mode of temperature values as they are inserted into the TempTracker. This class should have the following methods:\n",
        "\n",
        "     insert() - records a new temperature.\n",
        "     get_max() - returns the highest temperature we've seen so far.\n",
        "     get_min() - returns the lowest temperature we've seen so far.\n",
        "     get_mean() - returns the mean of all temperatures we've seen so far.\n",
        "     get_mode() - returns a mode of all temperatures we've seen so far.\n",
        "\n",
        "\n",
        "Favor speeding up the get methods over the insert method. Aim to get each of the get methods down to constant runtime. \n",
        "\n",
        "get_mean() should return a float. The rest of the methods can return integers. Temperatures should be recorded in Fahrenheit, so we can assume a range of 0 to 140.\n",
        "\n",
        "If there is more than one mode, return any of the modes. "
      ]
    },
    {
      "cell_type": "markdown",
      "metadata": {
        "id": "6f5D5sWy8VYN",
        "colab_type": "text"
      },
      "source": [
        "# Resources\n",
        "[Python Classes Documentation](https://docs.python.org/3/tutorial/classes.html)\n",
        "\n",
        "[Class Customization via Dunder Methods Documentation](https://docs.python.org/3/reference/datamodel.html#basic-customization)\n",
        "\n",
        "[Dunder Methods Tutorial](https://dbader.org/blog/python-dunder-methods)"
      ]
    },
    {
      "cell_type": "markdown",
      "metadata": {
        "id": "zEzk52Ui86C3",
        "colab_type": "text"
      },
      "source": [
        "# Solution"
      ]
    },
    {
      "cell_type": "code",
      "metadata": {
        "id": "COwBRvNi89FX",
        "colab_type": "code",
        "colab": {}
      },
      "source": [
        "class TemperatureTracker:\n",
        "  def __init__(self):\n",
        "    pass\n",
        "\n",
        "  def insert(self, temp):\n",
        "    pass\n",
        "\n",
        "  def get_max(self):\n",
        "    pass\n",
        "\n",
        "  def get_min(self):\n",
        "    pass\n",
        "\n",
        "  def get_mean(self):\n",
        "    pass\n",
        "\n",
        "  def get_mode(self):\n",
        "    pass"
      ],
      "execution_count": 0,
      "outputs": []
    },
    {
      "cell_type": "code",
      "metadata": {
        "id": "09F-JfbR74b4",
        "colab_type": "code",
        "colab": {}
      },
      "source": [
        "class TemperatureTracker:\n",
        "  def __init__(self):\n",
        "    # For mode \n",
        "    self.occurrences = [0] * 141   # list of all 0s at indices 0..140\n",
        "    self.max_occurrences = 0\n",
        "    self.mode = None\n",
        "    \n",
        "    # For mean \n",
        "    self.number_of_readings = 0 \n",
        "    self.total_sum = 0.0 \n",
        "    self.mean = None \n",
        "    \n",
        "    # For min and max \n",
        "    # Set these initially to negative and positive infinity\n",
        "    self.min_temp = float('inf')\n",
        "    self.max_temp = float('-inf')\n",
        "  \n",
        "  def insert(self, temp):\n",
        "    # For mode \n",
        "    self.occurrences[temp] += 1 \n",
        "    if self.occurrences[temp] > self.max_occurrences:\n",
        "      self.mode = temp \n",
        "      self.max_occurrences = self.occurrences[temp]\n",
        "      \n",
        "    # For mean \n",
        "    self.number_of_readings += 1 \n",
        "    self.total_sum += temp \n",
        "    self.mean = self.total_sum / self.number_of_readings \n",
        "    \n",
        "    # For min and max \n",
        "    if temp > self.max_temp:\n",
        "      self.max_temp = temp \n",
        "    if temp < self.min_temp:\n",
        "      self.min_temp = temp \n",
        "  \n",
        "  def get_max(self):\n",
        "    return self.max_temp \n",
        "  \n",
        "  def get_min(self):\n",
        "    return self.min_temp \n",
        "  \n",
        "  def get_mean(self):\n",
        "    return self.mean \n",
        "  \n",
        "  def get_mode(self):\n",
        "    return self.mode "
      ],
      "execution_count": 0,
      "outputs": []
    }
  ]
}